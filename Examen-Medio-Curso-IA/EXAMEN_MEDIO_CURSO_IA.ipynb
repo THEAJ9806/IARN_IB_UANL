{
  "nbformat": 4,
  "nbformat_minor": 0,
  "metadata": {
    "colab": {
      "name": "EXAMEN_MEDIO_CURSO_IA.ipynb",
      "provenance": []
    },
    "kernelspec": {
      "name": "python3",
      "display_name": "Python 3"
    },
    "language_info": {
      "name": "python"
    }
  },
  "cells": [
    {
      "cell_type": "markdown",
      "metadata": {
        "id": "0BNbI__lfH9V"
      },
      "source": [
        "# **Examen de Medio Curso**\n",
        "\n",
        "Nombre: ANTONIO JUAREZ ALONSO\n",
        "\n",
        "Matrícula: 1942584\n",
        "\n",
        "Hora: JUEVES N4-N6"
      ]
    },
    {
      "cell_type": "markdown",
      "metadata": {
        "id": "0Ziab00TbVRa"
      },
      "source": [
        "1. Desarrollar un programa que,\n",
        "- Remueva los números pares de la lista:\n",
        "   ex_lista = [10, 15, 17, 21, 22, 34, 37, 40, 45, 52, 66, 68, 81, 84, 91, 94, 102, 105, 109]\n",
        "- Imprima la lista después de remover los números pares. \n"
      ]
    },
    {
      "cell_type": "code",
      "metadata": {
        "colab": {
          "base_uri": "https://localhost:8080/"
        },
        "id": "uqib9BLfDSPp",
        "outputId": "a291b466-7936-4742-a068-402e593c5d70"
      },
      "source": [
        " #colocamos el arreglo\n",
        " ex_lista = [10, 15, 17, 21, 22, 34, 37, 40, 45, 52, 66, 68, 81, 84, 91, 94, 102, 105, 109]\n",
        " #buscaremos los valores que son pares y los igualaremos a cero\n",
        " for i in range (0,19,1):\n",
        "  if int (ex_lista[i]) % 2 == 0:\n",
        "    print(f\"El numero: {ex_lista[i]}, es par\")\n",
        "    ex_lista[i] = 0\n",
        "#imprimimos los valores de la lista diferentes de cero, asi nos quedamos unicamente con los valores impares\n",
        "\n",
        "for i in range (0,19,1):\n",
        "  print(ex_lista[i])"
      ],
      "execution_count": 72,
      "outputs": [
        {
          "output_type": "stream",
          "name": "stdout",
          "text": [
            "El numero: 10, es par\n",
            "El numero: 22, es par\n",
            "El numero: 34, es par\n",
            "El numero: 40, es par\n",
            "El numero: 52, es par\n",
            "El numero: 66, es par\n",
            "El numero: 68, es par\n",
            "El numero: 84, es par\n",
            "El numero: 94, es par\n",
            "El numero: 102, es par\n",
            "0\n",
            "15\n",
            "17\n",
            "21\n",
            "0\n",
            "0\n",
            "37\n",
            "0\n",
            "45\n",
            "0\n",
            "0\n",
            "0\n",
            "81\n",
            "0\n",
            "91\n",
            "0\n",
            "0\n",
            "105\n",
            "109\n"
          ]
        }
      ]
    },
    {
      "cell_type": "markdown",
      "metadata": {
        "id": "jQQRIEmCbUs5"
      },
      "source": [
        "2. Desarrollar un programa que,\n",
        "- Pregunte al usuario por sus 5 películas favoritas (dato tipo string), empezando por la mas favorita y terminando en la posición 5 con la menos favorita. \n",
        "- Almacene estos datos en una lista. \n",
        "- Por último, iterar sobre la lista generada para imprimir 5 oraciones (1 con cada título de película) que digan: \"La película [TÍTULO DE PELÍCULA] está en la posición [índice+1] de mi top 5\". \n",
        "      . TÍTULO DE PELÍCULA: corresponde a los nombres almacenados previamente en su lista. \n",
        "      . Recordatorio: Índice es la posición de un elemento dentro de una lista. \n"
      ]
    },
    {
      "cell_type": "code",
      "metadata": {
        "colab": {
          "base_uri": "https://localhost:8080/"
        },
        "id": "0zoM8_oDb5F_",
        "outputId": "5853cb6d-870e-48e8-86e0-05b59f3a96c9"
      },
      "source": [
        "#punto 1.1\n",
        "mvlist = []\n",
        "print(\"¿Cuales son tus 5 peliclas favoritas? \")\n",
        "print(\"Por favor mencionalas de la mas favorita a la menos favorita\")\n",
        "for i in range(0,5):\n",
        "  mv = input()\n",
        "  mvlist.append(mv)\n",
        "\n",
        "#punto 1.2\n",
        "print(\" \")\n",
        "for i in range(0, 5): #For para imprimir la lista de comidasT\n",
        "  print(f\"La pelicula '{mvlist[i]}'' esta en la posicion {i} de mi TOP 5.\")"
      ],
      "execution_count": 81,
      "outputs": [
        {
          "output_type": "stream",
          "name": "stdout",
          "text": [
            "¿Cuales son tus 5 peliclas favoritas? \n",
            "Por favor mencionalas de la mas favorita a la menos favorita\n",
            "EL REY LEON\n",
            "WALL-E\n",
            "EL PLANETA DEL TESORO\n",
            "EL EJERCITO DE LOS MUERTOS \n",
            "TITANIC\n",
            " \n",
            "La pelicula 'EL REY LEON'' esta en la posicion 0 de mi TOP 5.\n",
            "La pelicula 'WALL-E'' esta en la posicion 1 de mi TOP 5.\n",
            "La pelicula 'EL PLANETA DEL TESORO'' esta en la posicion 2 de mi TOP 5.\n",
            "La pelicula 'EL EJERCITO DE LOS MUERTOS '' esta en la posicion 3 de mi TOP 5.\n",
            "La pelicula 'TITANIC'' esta en la posicion 4 de mi TOP 5.\n"
          ]
        }
      ]
    }
  ]
}