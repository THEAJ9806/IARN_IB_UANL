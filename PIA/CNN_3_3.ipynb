{
  "nbformat": 4,
  "nbformat_minor": 0,
  "metadata": {
    "colab": {
      "name": "CNN_3_3.ipynb",
      "provenance": [],
      "collapsed_sections": []
    },
    "kernelspec": {
      "display_name": "Python 3",
      "name": "python3"
    }
  },
  "cells": [
    {
      "cell_type": "markdown",
      "metadata": {
        "id": "kxxVr-jfHZmT"
      },
      "source": [
        "Antonio Juarez Alonso\n",
        "\n",
        "Oliver Azael Vazquez Juarez\n",
        "\n",
        "Juan Carlos Jimenez Gutierrez\n",
        "\n",
        "Carlos Enrique Perez Perez\n",
        "\n",
        "Axcel Contreras Jimenez"
      ]
    },
    {
      "cell_type": "code",
      "metadata": {
        "id": "0trJmd6DjqBZ"
      },
      "source": [
        "import tensorflow as tf\n",
        "\n",
        "from tensorflow.keras.layers import Dense, Flatten, Conv2D\n",
        "from tensorflow.keras import Model\n",
        "import matplotlib.pyplot as plt"
      ],
      "execution_count": null,
      "outputs": []
    },
    {
      "cell_type": "code",
      "metadata": {
        "id": "JqFRS6K07jJs"
      },
      "source": [
        "cifar = tf.keras.datasets.cifar100\n",
        "\n",
        "(x_train, y_train), (x_test, y_test) = cifar.load_data(label_mode='coarse')\n",
        "x_train, x_test = x_train / 255.0, x_test / 255.0\n",
        "\n",
        "# Agrega una dimension de canales\n",
        "x_train = x_train[..., tf.newaxis]\n",
        "x_test = x_test[..., tf.newaxis]"
      ],
      "execution_count": null,
      "outputs": []
    },
    {
      "cell_type": "code",
      "metadata": {
        "id": "8Iu_quO024c2"
      },
      "source": [
        "train_ds = tf.data.Dataset.from_tensor_slices(\n",
        "    (x_train, y_train)).shuffle(10000).batch(32)\n",
        "\n",
        "test_ds = tf.data.Dataset.from_tensor_slices((x_test, y_test)).batch(32)"
      ],
      "execution_count": null,
      "outputs": []
    },
    {
      "cell_type": "code",
      "metadata": {
        "id": "h3IKyzTCDNGo"
      },
      "source": [
        "class MyModel(Model):\n",
        "  def __init__(self):\n",
        "    super(MyModel, self).__init__()\n",
        "    self.conv1 = Conv2D(64, 3, activation='relu')\n",
        "    self.flatten = Flatten()\n",
        "    self.d1 = Dense(256, activation='relu')\n",
        "    self.d2 = Dense(20, activation='softmax')\n",
        "\n",
        "  def call(self, x):\n",
        "    x = self.conv1(x)\n",
        "    x = self.flatten(x)\n",
        "    x = self.d1(x)\n",
        "    return self.d2(x)\n",
        "\n",
        "# Crea una instancia del modelo\n",
        "model = MyModel()"
      ],
      "execution_count": null,
      "outputs": []
    },
    {
      "cell_type": "code",
      "metadata": {
        "id": "u48C9WQ774n4"
      },
      "source": [
        "loss_object = tf.keras.losses.SparseCategoricalCrossentropy()\n",
        "\n",
        "optimizer = tf.keras.optimizers.Adam()"
      ],
      "execution_count": null,
      "outputs": []
    },
    {
      "cell_type": "code",
      "metadata": {
        "id": "N0MqHFb4F_qn"
      },
      "source": [
        "train_loss = tf.keras.metrics.Mean(name='train_loss')\n",
        "train_accuracy = tf.keras.metrics.SparseCategoricalAccuracy(name='train_accuracy')\n",
        "\n",
        "test_loss = tf.keras.metrics.Mean(name='test_loss')\n",
        "test_accuracy = tf.keras.metrics.SparseCategoricalAccuracy(name='test_accuracy')"
      ],
      "execution_count": null,
      "outputs": []
    },
    {
      "cell_type": "code",
      "metadata": {
        "id": "OZACiVqA8KQV"
      },
      "source": [
        "@tf.function\n",
        "def train_step(images, labels):\n",
        "  with tf.GradientTape() as tape:\n",
        "    predictions = model(images)\n",
        "    loss = loss_object(labels, predictions)\n",
        "  gradients = tape.gradient(loss, model.trainable_variables)\n",
        "  optimizer.apply_gradients(zip(gradients, model.trainable_variables))\n",
        "\n",
        "  train_loss(loss)\n",
        "  train_accuracy(labels, predictions)"
      ],
      "execution_count": null,
      "outputs": []
    },
    {
      "cell_type": "code",
      "metadata": {
        "id": "xIKdEzHAJGt7"
      },
      "source": [
        "@tf.function\n",
        "def test_step(images, labels):\n",
        "  predictions = model(images)\n",
        "  t_loss = loss_object(labels, predictions)\n",
        "\n",
        "  test_loss(t_loss)\n",
        "  test_accuracy(labels, predictions)"
      ],
      "execution_count": null,
      "outputs": []
    },
    {
      "cell_type": "code",
      "metadata": {
        "id": "i-2pkctU_Ci7",
        "colab": {
          "base_uri": "https://localhost:8080/"
        },
        "outputId": "e1edc6dc-21b4-401b-8684-5edf581b919c"
      },
      "source": [
        "EPOCHS = 30\n",
        "\n",
        "for epoch in range(EPOCHS):\n",
        "  for images, labels in train_ds:\n",
        "    train_step(images, labels)\n",
        "\n",
        "  for test_images, test_labels in test_ds:\n",
        "    test_step(test_images, test_labels)\n",
        "\n",
        "  template = 'Epoch {}, Perdida: {}, Exactitud: {}, Perdida de prueba: {}, Exactitud de prueba: {}'\n",
        "  print(template.format(epoch+1,\n",
        "                        train_loss.result(),\n",
        "                        train_accuracy.result()*100,\n",
        "                        test_loss.result(),\n",
        "                        test_accuracy.result()*100))\n",
        "\n",
        "  # Reinicia las metricas para el siguiente epoch.\n",
        "  train_loss.reset_states()\n",
        "  train_accuracy.reset_states()\n",
        "  test_loss.reset_states()\n",
        "  test_accuracy.reset_states()"
      ],
      "execution_count": null,
      "outputs": [
        {
          "output_type": "stream",
          "name": "stdout",
          "text": [
            "Epoch 1, Perdida: 2.276411533355713, Exactitud: 30.540000915527344, Perdida de prueba: 2.0718443393707275, Exactitud de prueba: 36.29999923706055\n",
            "Epoch 2, Perdida: 1.9124869108200073, Exactitud: 41.2339973449707, Perdida de prueba: 1.994435429573059, Exactitud de prueba: 38.61000061035156\n",
            "Epoch 3, Perdida: 1.68035888671875, Exactitud: 47.97999954223633, Perdida de prueba: 1.9545239210128784, Exactitud de prueba: 40.93000030517578\n",
            "Epoch 4, Perdida: 1.427721619606018, Exactitud: 55.64400100708008, Perdida de prueba: 2.0374763011932373, Exactitud de prueba: 40.66999816894531\n",
            "Epoch 5, Perdida: 1.1569005250930786, Exactitud: 63.83799743652344, Perdida de prueba: 2.1969237327575684, Exactitud de prueba: 40.7599983215332\n",
            "Epoch 6, Perdida: 0.8959044218063354, Exactitud: 72.07400512695312, Perdida de prueba: 2.3882436752319336, Exactitud de prueba: 40.2599983215332\n",
            "Epoch 7, Perdida: 0.673579216003418, Exactitud: 79.14399719238281, Perdida de prueba: 2.730087995529175, Exactitud de prueba: 39.02000045776367\n",
            "Epoch 8, Perdida: 0.5040563344955444, Exactitud: 84.5719985961914, Perdida de prueba: 2.974010467529297, Exactitud de prueba: 39.040000915527344\n",
            "Epoch 9, Perdida: 0.3711177408695221, Exactitud: 88.88999938964844, Perdida de prueba: 3.465799570083618, Exactitud de prueba: 37.67000198364258\n",
            "Epoch 10, Perdida: 0.28539904952049255, Exactitud: 91.46800231933594, Perdida de prueba: 3.8257131576538086, Exactitud de prueba: 39.04999923706055\n",
            "Epoch 11, Perdida: 0.23151275515556335, Exactitud: 93.19000244140625, Perdida de prueba: 4.114687442779541, Exactitud de prueba: 37.9900016784668\n",
            "Epoch 12, Perdida: 0.20005466043949127, Exactitud: 94.06600189208984, Perdida de prueba: 4.415115833282471, Exactitud de prueba: 37.63999938964844\n",
            "Epoch 13, Perdida: 0.1697182059288025, Exactitud: 95.0719985961914, Perdida de prueba: 4.705282688140869, Exactitud de prueba: 37.22999954223633\n",
            "Epoch 14, Perdida: 0.14839902520179749, Exactitud: 95.60600280761719, Perdida de prueba: 4.940340042114258, Exactitud de prueba: 37.16999816894531\n",
            "Epoch 15, Perdida: 0.14183209836483002, Exactitud: 95.90399932861328, Perdida de prueba: 5.191789150238037, Exactitud de prueba: 37.790000915527344\n",
            "Epoch 16, Perdida: 0.11788911372423172, Exactitud: 96.52400207519531, Perdida de prueba: 5.349523067474365, Exactitud de prueba: 37.75\n",
            "Epoch 17, Perdida: 0.11886303871870041, Exactitud: 96.54399871826172, Perdida de prueba: 5.656823635101318, Exactitud de prueba: 37.209999084472656\n",
            "Epoch 18, Perdida: 0.10422632843255997, Exactitud: 97.00800323486328, Perdida de prueba: 5.921164512634277, Exactitud de prueba: 36.90999984741211\n",
            "Epoch 19, Perdida: 0.10916850715875626, Exactitud: 96.78599548339844, Perdida de prueba: 6.057560920715332, Exactitud de prueba: 36.269996643066406\n",
            "Epoch 20, Perdida: 0.09912240505218506, Exactitud: 97.04800415039062, Perdida de prueba: 6.365882396697998, Exactitud de prueba: 36.53999710083008\n",
            "Epoch 21, Perdida: 0.09142237901687622, Exactitud: 97.38199615478516, Perdida de prueba: 6.514196872711182, Exactitud de prueba: 36.709999084472656\n",
            "Epoch 22, Perdida: 0.08097480982542038, Exactitud: 97.72200012207031, Perdida de prueba: 6.6006646156311035, Exactitud de prueba: 37.290000915527344\n",
            "Epoch 23, Perdida: 0.09309334307909012, Exactitud: 97.38199615478516, Perdida de prueba: 6.81466817855835, Exactitud de prueba: 37.11000061035156\n",
            "Epoch 24, Perdida: 0.08048755675554276, Exactitud: 97.73799896240234, Perdida de prueba: 6.81561279296875, Exactitud de prueba: 36.61000061035156\n",
            "Epoch 25, Perdida: 0.08224169909954071, Exactitud: 97.68599700927734, Perdida de prueba: 7.101491451263428, Exactitud de prueba: 36.89999771118164\n",
            "Epoch 26, Perdida: 0.07836073637008667, Exactitud: 97.77999877929688, Perdida de prueba: 7.18274450302124, Exactitud de prueba: 36.849998474121094\n",
            "Epoch 27, Perdida: 0.07581955939531326, Exactitud: 97.83399963378906, Perdida de prueba: 7.076595306396484, Exactitud de prueba: 37.15999984741211\n",
            "Epoch 28, Perdida: 0.07372026890516281, Exactitud: 97.91799926757812, Perdida de prueba: 7.319075584411621, Exactitud de prueba: 37.349998474121094\n",
            "Epoch 29, Perdida: 0.07015784084796906, Exactitud: 98.06200408935547, Perdida de prueba: 7.662814617156982, Exactitud de prueba: 36.099998474121094\n",
            "Epoch 30, Perdida: 0.06400042772293091, Exactitud: 98.18199920654297, Perdida de prueba: 7.791749000549316, Exactitud de prueba: 35.97999954223633\n"
          ]
        }
      ]
    }
  ]
}