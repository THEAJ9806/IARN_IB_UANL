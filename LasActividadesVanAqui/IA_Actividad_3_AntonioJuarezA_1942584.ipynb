{
  "nbformat": 4,
  "nbformat_minor": 0,
  "metadata": {
    "colab": {
      "name": "IA_Actividad_3_AntonioJuarezA_1942584.ipynb",
      "provenance": [],
      "collapsed_sections": []
    },
    "kernelspec": {
      "display_name": "Python 3",
      "name": "python3"
    },
    "language_info": {
      "name": "python"
    }
  },
  "cells": [
    {
      "cell_type": "markdown",
      "metadata": {
        "id": "LpyTIO8aDcxx"
      },
      "source": [
        "# **Actividad 3.- Ejercicios de Introducción a Python, 2da parte**\n",
        "\n",
        "Nombre: Antonio Juárez Alonso\n",
        "\n",
        "Matrícula: 1942584\n",
        "\n",
        "Hora: Jueves N4-N6\n",
        "\n"
      ]
    },
    {
      "cell_type": "markdown",
      "metadata": {
        "id": "kuollWGyDu1c"
      },
      "source": [
        "**Ejercicio 1:**\n",
        "\n",
        "1.1 Piensa en 7 comidas diferente que te gusten. Implementa un programa que pregunte por las 7 comidas, las almacene en una lista y que posteriermente imprima cada una de ellas utilizando uno de los ciclos comentados en clase. \n",
        "\n",
        "1.2 Modifica el ejercicio 1.1 para que imprima cada una de las comidas favoritas junto con una oracición inicial: \"Una de mis comidas favoritas es [comida1]\".  "
      ]
    },
    {
      "cell_type": "code",
      "metadata": {
        "colab": {
          "base_uri": "https://localhost:8080/"
        },
        "id": "tadS8NFuC7JZ",
        "outputId": "d5422490-d361-4bcb-ffc6-58083083ab4f"
      },
      "source": [
        "#punto 1.1\n",
        "foodlist = []\n",
        "print(\"¿Cuales son tus 7 comidas favoritas? \")\n",
        "for i in range(0,7):\n",
        "  food = input()\n",
        "  foodlist.append(food)\n",
        "\n",
        "#punto 1.2\n",
        "print(\" \")\n",
        "for i in range(0, 7): #For para imprimir la lista de comidasT\n",
        "  if i == 0:\n",
        "    print(f\"Una de tus comidas favoritas es: {foodlist[i]}.\")\n",
        "  else:\n",
        "    print(f\"Otra de tus comidas favoritas es: {foodlist[i]}.\")"
      ],
      "execution_count": null,
      "outputs": [
        {
          "output_type": "stream",
          "name": "stdout",
          "text": [
            "¿Cuales son tus 7 comidas favoritas? \n",
            "tacos \n",
            "milanesa de res\n",
            "papas a la francesa \n",
            "pizza\n",
            "guacamole \n",
            "carne asada\n",
            "arrachera\n",
            " \n",
            "Una de tus comidas favoritas es: tacos .\n",
            "Otra de tus comidas favoritas es: milanesa de res.\n",
            "Otra de tus comidas favoritas es: papas a la francesa .\n",
            "Otra de tus comidas favoritas es: pizza.\n",
            "Otra de tus comidas favoritas es: guacamole .\n",
            "Otra de tus comidas favoritas es: carne asada.\n",
            "Otra de tus comidas favoritas es: arrachera.\n"
          ]
        }
      ]
    },
    {
      "cell_type": "markdown",
      "metadata": {
        "id": "ugXBkM8p3uXa"
      },
      "source": [
        "#**Ejercicio 2**\n",
        "\n",
        "Crear un juego de piedra, papel o tijera de dos jugadores. El programa preguntará por la opción del jugador 1 y la opción del jugador 2 y dará como resultado quien ganó el juego. "
      ]
    },
    {
      "cell_type": "code",
      "metadata": {
        "id": "BXo4M4N83wq6",
        "colab": {
          "base_uri": "https://localhost:8080/"
        },
        "outputId": "cc509cc2-bd15-4b21-d17c-d3682197910a"
      },
      "source": [
        "print(\"Las opciones son: \")\n",
        "print(\"1:Piedra\")\n",
        "print(\"2:Papel\")\n",
        "print(\"3:Tjera\")\n",
        "player1 = input(\"Jugador 1 por favor escoja una opcion: \")\n",
        "player2 = input(\"Jugador 2 por favor escoja una opcion: \")\n",
        "if player1 =='1':\n",
        "  if player2 == '2':\n",
        "    print(\"El jugador 2 ganó\")\n",
        "  elif player2 == '3':\n",
        "    print(\"El jugador 1 ganó\")\n",
        "  else:\n",
        "    print(\"Es un empate\")\n",
        "elif player1 == '2':\n",
        "  if player2 == '1':\n",
        "    print(\"El jugador 1 ganó\")\n",
        "  elif player2 == '3':\n",
        "    print(\"El jugador 2 ganó\")\n",
        "  else:\n",
        "    print(\"Es un empate\")\n",
        "elif player1 == '3':\n",
        "  if player2 == '1':\n",
        "    print(\"El jugador 2 ganó\")\n",
        "  elif player2 == '2':\n",
        "    print(\"El jugador 1 ganó\")\n",
        "  else:\n",
        "    print(\"Es un empate\")\n",
        "else:\n",
        "  print(\"Entrada no valida\")\n"
      ],
      "execution_count": 21,
      "outputs": [
        {
          "output_type": "stream",
          "name": "stdout",
          "text": [
            "Las opciones son: \n",
            "1:Piedra\n",
            "2:Papel\n",
            "3:Tjera\n",
            "Jugador 1 por favor escoja una opcion: 2\n",
            "Jugador 2 por favor escoja una opcion: 1\n",
            "El jugador 1 ganó\n"
          ]
        }
      ]
    },
    {
      "cell_type": "markdown",
      "metadata": {
        "id": "_ZfM6anl3xSt"
      },
      "source": [
        "# **Ejercicio 3**\n",
        "\n",
        "Implementar un programa que imprima el siguiente patron:\n",
        "\n",
        "123456\n",
        "\n",
        "12345\n",
        "\n",
        "1234\n",
        "\n",
        "123\n",
        "\n",
        "12\n",
        "\n",
        "1\n",
        "\n",
        "12\n",
        "\n",
        "123\n",
        "\n",
        "1234\n",
        "\n",
        "12345\n",
        "\n",
        "123456"
      ]
    },
    {
      "cell_type": "code",
      "metadata": {
        "colab": {
          "base_uri": "https://localhost:8080/"
        },
        "id": "MBRFAMv1IaiW",
        "outputId": "f786450e-d24e-41bc-b288-7986fae8a617"
      },
      "source": [
        "list = [1,2,3,4,5,6]\n",
        "for i in range(6,1,-1): #For para imprimir en forma desendente al 1\n",
        "  print(list[0:i])\n",
        "for i in range(1,7,1): #For para imprimir en forma asendente al 6\n",
        "  print(list[0:i])"
      ],
      "execution_count": 25,
      "outputs": [
        {
          "output_type": "stream",
          "name": "stdout",
          "text": [
            "[1, 2, 3, 4, 5, 6]\n",
            "[1, 2, 3, 4, 5]\n",
            "[1, 2, 3, 4]\n",
            "[1, 2, 3]\n",
            "[1, 2]\n",
            "[1]\n",
            "[1, 2]\n",
            "[1, 2, 3]\n",
            "[1, 2, 3, 4]\n",
            "[1, 2, 3, 4, 5]\n",
            "[1, 2, 3, 4, 5, 6]\n"
          ]
        }
      ]
    }
  ]
}