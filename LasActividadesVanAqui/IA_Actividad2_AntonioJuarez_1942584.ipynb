{
  "nbformat": 4,
  "nbformat_minor": 0,
  "metadata": {
    "colab": {
      "name": "Untitled0.ipynb",
      "provenance": []
    },
    "kernelspec": {
      "name": "python3",
      "display_name": "Python 3"
    },
    "language_info": {
      "name": "python"
    }
  },
  "cells": [
    {
      "cell_type": "markdown",
      "metadata": {
        "id": "7IAlymlxsDNy"
      },
      "source": [
        "#**Actividad 2.- Ejercicios de Introducción a Python**\n",
        "\n",
        "Nombre: Antonio Juárez Alonso\n",
        "\n",
        "Matrícula: 1942584\n",
        "\n",
        "Hora: Jueves N4-N6"
      ]
    },
    {
      "cell_type": "markdown",
      "metadata": {
        "id": "sMHuhLdctYVj"
      },
      "source": [
        "**Ejercicio 1:**\n",
        "\n",
        "Crear un programa que pregunte al usuario por su nombre, edad, una frase favorita y autor de la frase favorita. El programa deberá de imprimir un mensaje compuesto por el nombre y edad del usuario diciendo que su frase favorita es la que dió anteriormente y el autor de dicha frase es el nombre previamente dado. Aquí habrá que realizar una concatenación de variables."
      ]
    },
    {
      "cell_type": "code",
      "metadata": {
        "colab": {
          "base_uri": "https://localhost:8080/"
        },
        "id": "Mpc00WwntXUz",
        "outputId": "e7bcf1fd-b50d-4f68-d086-a19b806375bf"
      },
      "source": [
        "#usaremos variables las cuales se asignaran a cada pregunta con la cual obtendremos la informacion que nos importa, misma informacion que imprimiremos al final\n",
        "name = input(\"Disculpe, ¿Como se llama?: \")\n",
        "age = input(\"Mucho gusto, ¿Que edad tiene?: \")\n",
        "sentence = input(\"Que maravilla!!, quisiera verme asi en algun futuro, digame ¿Cuál es su frase favorita?\")\n",
        "author = input(\"WOW, Excelente frase!!, ¿Quien es el autor?\")\n",
        "print(f\"Ha sido un placer conocerle!!, {name}, espero llegar a los {age} años como usted, sabe su frase ''{sentence}'' del autor {author} me ha inspirado, QUE TENGA UN EXCELENTE DIA!!. \")"
      ],
      "execution_count": 4,
      "outputs": [
        {
          "output_type": "stream",
          "name": "stdout",
          "text": [
            "Disculpe, ¿Como se llama?: anton\n",
            "Mucho gusto, ¿Que edad tiene?: 23\n",
            "Que maravilla!!, quisiera verme asi en algun futuro, digame ¿Cuál es su frase favorita?No es lo que te pasa lo que determina lo lejos que llegarás en la vida; es la forma de manejar lo que te pasa\n",
            "WOW, Excelente frase!!, ¿Quien es el autor?ZIG ZIGLAR\n",
            "Ha sido un placer conocerle!!, anton, espero llegar a los 23 como usted, sabe su frase ''No es lo que te pasa lo que determina lo lejos que llegarás en la vida; es la forma de manejar lo que te pasa'' del autor ZIG ZIGLAR me ha inspirado, QUE TENGA UN EXCELENTE DIA!!. \n"
          ]
        }
      ]
    },
    {
      "cell_type": "markdown",
      "metadata": {
        "id": "rIIlvOFsxqQy"
      },
      "source": [
        "# **Ejercicio 2**\n",
        "\n",
        "Crear un programa que le pida al usuario capturar dos números enteros y dos números flotantes. Después, realizará la suma, resta, multiplicación y división, de ambos pares de números. Como resultado se deberán de obtener 8 valores. Imprimir todos estos reultados."
      ]
    },
    {
      "cell_type": "code",
      "metadata": {
        "colab": {
          "base_uri": "https://localhost:8080/"
        },
        "id": "HJ1XJZ4_gWqp",
        "outputId": "3dd2ec06-fb29-4d92-a6fa-f5230fd5c8b4"
      },
      "source": [
        "#primero iniciaremos por almacenar las variables\n",
        "int1 = input(\"Favor de ingresar un valor numerico entero: \")\n",
        "int2 = input(\"Favor de ingresar otro valor numerico entero: \")\n",
        "float1 = input(\"Favor de ingresar un valor numerico flotante: \")\n",
        "float2 = input(\"Favor de ingresar otro valor numerico flotante: \")\n",
        "print()\n",
        "print()\n",
        "\n",
        "\"\"\" \n",
        "se optara por usar un bucle for, para hacer una iteracion y definir que numeros son enteros y cuales flotantes\n",
        "\"\"\"\n",
        "for i in [0,1]:\n",
        "  if i % 2 == 0:\n",
        "    x = int(int1)\n",
        "    y = int(int2)\n",
        "  else:\n",
        "    x = int(int1)\n",
        "    y = int(int2)\n",
        "  \n",
        "  print(\"RESULTADOS\")\n",
        "  print(f\"El resultado de la suma de {x} y {y} es {x+y} \")\n",
        "  print(f\"El resultado de la resta de {x} y {y} es {x-y} \")\n",
        "  print(f\"El resultado de la multiplicacion de {x} y {y} es {x*y} \")\n",
        "  print(f\"El resultado de la division de {x} y {y} es {x/y} \")\n",
        "  \n",
        "  print()\n"
      ],
      "execution_count": 11,
      "outputs": [
        {
          "output_type": "stream",
          "name": "stdout",
          "text": [
            "Favor de ingresar un valor numerico entero: 8\n",
            "Favor de ingresar otro valor numerico entero: 1\n",
            "Favor de ingresar un valor numerico flotante: 3.33\n",
            "Favor de ingresar otro valor numerico flotante: 9.99\n",
            "\n",
            "\n",
            "RESULTADOS\n",
            "El resultado de la suma de 8 y 1 es 9 \n",
            "El resultado de la resta de 8 y 1 es 7 \n",
            "El resultado de la multiplicacion de 8 y 1 es 8 \n",
            "El resultado de la division de 8 y 1 es 8.0 \n",
            "\n",
            "RESULTADOS\n",
            "El resultado de la suma de 8 y 1 es 9 \n",
            "El resultado de la resta de 8 y 1 es 7 \n",
            "El resultado de la multiplicacion de 8 y 1 es 8 \n",
            "El resultado de la division de 8 y 1 es 8.0 \n",
            "\n"
          ]
        }
      ]
    },
    {
      "cell_type": "markdown",
      "metadata": {
        "id": "BEZY5CIDaYA4"
      },
      "source": [
        "# **Ejercicio 3**\n",
        "\n",
        "Crear un programa que evalúe dos expresiones lógicas con and, dos con or y dos con not. Cada expresión deberá hacer uso de operadores de comparación."
      ]
    },
    {
      "cell_type": "code",
      "metadata": {
        "colab": {
          "base_uri": "https://localhost:8080/"
        },
        "id": "vKGvRVTdangl",
        "outputId": "891ea5d8-df38-44c1-95d6-4af29fd2e519"
      },
      "source": [
        "x = input(\"Por favor ingrese un numero entero: \")\n",
        "y = input(\"Por favor ingrese un segundo numero entero: \")\n",
        "z = input(\"Por favor ingrese un tercer numero entero: \")\n",
        "print()\n",
        "print()\n",
        "\n",
        "#iniciaremos por and\n",
        "print(f\"Todos los valores ingresados son iguales: {x == y and y == z}\")\n",
        "print(f\"El primer valor es el mas grande: {x > y and x > z}\")\n",
        "print()\n",
        "\n",
        "#ahora procedemos con or\n",
        "print(f\"Hay algun valor repetido: {x == y or x == y}\")\n",
        "print(f\"el segundo nuemro es uno de los dos mas grandes: {y > x or y > z}\")\n",
        "print()\n",
        "\n",
        "#ahora procedemos con not\n",
        "print(f\"No hay ningun numero repetido: {not x == y and not y == z and not x == z}\")\n",
        "print(f\"El tercer valor es el mas grande: {not z < x and not z < y}\")\n",
        "print()\n"
      ],
      "execution_count": 7,
      "outputs": [
        {
          "output_type": "stream",
          "name": "stdout",
          "text": [
            "Por favor ingrese un numero entero: 1\n",
            "Por favor ingrese un segundo numero entero: 2\n",
            "Por favor ingrese un tercer numero entero: 3\n",
            "\n",
            "\n",
            "Todos los valores ingresados son iguales: False\n",
            "El primer valor es el mas grande: False\n",
            "\n",
            "Hay algun valor repetido: False\n",
            "el segundo nuemro es uno de los dos mas grandes: True\n",
            "\n",
            "No hay ningun numero repetido: True\n",
            "El tercer valor es el mas grande: True\n",
            "\n"
          ]
        }
      ]
    }
  ]
}